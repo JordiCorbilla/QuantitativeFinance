{
 "cells": [
  {
   "cell_type": "markdown",
   "id": "36946e4e",
   "metadata": {},
   "source": [
    "# Monte Carlo Method\n",
    "\n",
    "The Monte Carlo method is a computational technique that relies on randomness to approximate complex outcomes. It involves generating random samples or simulations to model and estimate a range of possible results. By performing a large number of simulations, the method provides statistical estimates for quantities of interest, making it particularly useful for problems with multiple variables, uncertainties, or non-analytical solutions. In finance, Monte Carlo simulations are often used for risk assessment, option pricing, and portfolio optimization."
   ]
  },
  {
   "cell_type": "code",
   "execution_count": 31,
   "id": "722ca5ad",
   "metadata": {},
   "outputs": [],
   "source": [
    "# Define Imports\n",
    "import numpy as np\n",
    "import matplotlib.pyplot as plt\n",
    "import yfinance as yf\n",
    "import pandas_datareader as pdr"
   ]
  },
  {
   "cell_type": "markdown",
   "id": "991a4545",
   "metadata": {},
   "source": [
    "## Monte Carlo method to price European call options\n",
    "\n",
    "The `monte_carlo_european_option` is defined to calculate option prices using the **Monte Carlo method**. This function simulates multiple stock price paths based on the **Black-Scholes model**, calculates option payoffs for each path, and computes the option price as the average of these payoffs.\n",
    "\n",
    "The parameters used are defined below:\n",
    "\n",
    "- **Current Stock Price (S):** The last available adjusted closing price in the historical data is used.\n",
    "- **Strike Price (K)**: Set to be at-the-money, which means it's the same as the current stock price.\n",
    "- **Time to Expiration (T)**: The time until the option's expiration, typically in years.\n",
    "- **Risk-Free Interest Rate (r)**: The assumed risk-free interest rate, often based on government bond yields.\n",
    "- **Volatility (sigma)**: Estimated based on the historical data, annualized to reflect stock price fluctuations.\n"
   ]
  },
  {
   "cell_type": "code",
   "execution_count": 32,
   "id": "90e5c16d",
   "metadata": {},
   "outputs": [],
   "source": [
    "# Function to calculate option prices using Monte Carlo method\n",
    "def monte_carlo_european_option(S, K, T, r, sigma, option_type, n_simulations):\n",
    "    dt = T / 252  # Number of trading days in a year (assuming 252)\n",
    "    n_steps = int(T / dt)\n",
    "    \n",
    "    option_prices = []\n",
    "    \n",
    "    for _ in range(n_simulations):\n",
    "        # Generate a single stock price path using the Black-Scholes model\n",
    "        stock_prices = [S]\n",
    "        for _ in range(n_steps):\n",
    "            Z = np.random.normal(0, 1)\n",
    "            S_t = stock_prices[-1] * np.exp((r - 0.5 * sigma**2) * dt + sigma * np.sqrt(dt) * Z)\n",
    "            stock_prices.append(S_t)\n",
    "        \n",
    "        # Calculate the option payoff\n",
    "        if option_type == 'call':\n",
    "            option_payoff = max(stock_prices[-1] - K, 0)\n",
    "        elif option_type == 'put':\n",
    "            option_payoff = max(K - stock_prices[-1], 0)\n",
    "        else:\n",
    "            raise ValueError(\"Invalid option_type. Use 'call' or 'put'.\")\n",
    "        \n",
    "        option_prices.append(option_payoff * np.exp(-r * T))\n",
    "    \n",
    "    return np.mean(option_prices)"
   ]
  },
  {
   "cell_type": "code",
   "execution_count": 33,
   "id": "18c1f0ae",
   "metadata": {},
   "outputs": [],
   "source": [
    "# Function to download latest ticker information and the calculated values we need\n",
    "def download_data_ticker(stock_symbol, start_date, end_date):\n",
    "    # Download historical data for a stock symbol from Yahoo Finance\n",
    "    stock_data = yf.download(stock_symbol, start=start_date, end=end_date)\n",
    "\n",
    "    # Extract the adjusted closing prices (use 'Adj Close' column)\n",
    "    stock_prices = stock_data['Adj Close']\n",
    "    dates = stock_prices.index  # Get the dates from the DataFrame\n",
    "    \n",
    "    # Extract the last date from the historical data\n",
    "    current_date = dates[-1]\n",
    "\n",
    "    # Print the current date used for the simulation\n",
    "    print(f\"Current Date for Simulation: {current_date}\")\n",
    "    \n",
    "    return stock_prices, stock_prices.iloc[-1]  # Current stock price (use the last available price)"
   ]
  },
  {
   "cell_type": "code",
   "execution_count": 34,
   "id": "16c48b3f",
   "metadata": {},
   "outputs": [],
   "source": [
    "# Function to download the latest SOFR\n",
    "\n",
    "def download_sofr(start_date, end_date):\n",
    "\n",
    "    # Fetch SOFR data\n",
    "    sofr_data = pdr.data.DataReader('SOFR', 'fred', start_date, end_date)\n",
    "\n",
    "    # Print the latest SOFR rate\n",
    "    latest_sofr_rate = sofr_data['SOFR'].iloc[-1]\n",
    "    print(f\"Latest SOFR Rate: {latest_sofr_rate:.4f}%\")\n",
    "    \n",
    "    return latest_sofr_rate"
   ]
  },
  {
   "cell_type": "code",
   "execution_count": 35,
   "id": "05c066c1",
   "metadata": {},
   "outputs": [],
   "source": [
    "def plot_single_simulation(stock_symbol, start_date, end_date):\n",
    "    stock_prices, curret_price = download_data_ticker(stock_symbol, start_date, end_date)\n",
    "    sofr = download_sofr(start_date, end_date)\n",
    "    # Input values\n",
    "    S = curret_price \n",
    "    K = S  # Option strike price (set it to be at-the-money)\n",
    "    T = 0.012  # Time to expiration in years (3 days -> 3/252 = 0.012)\n",
    "    r = sofr  # Risk-free interest rate (5.3%%)\n",
    "    trading_days_per_year = 252  # Approximate number of trading days in a year\n",
    "    sigma = np.std(np.log(stock_prices / stock_prices.shift(1))) * np.sqrt(trading_days_per_year)  # Annualized volatility\n",
    "    print(f'Sigma: {sigma:2f}')\n",
    "    option_type = 'call'  # 'call' for a call option, 'put' for a put option\n",
    "    n_simulations = 10000  # Number of Monte Carlo simulations\n",
    "\n",
    "    # Calculate option prices for different numbers of simulations\n",
    "    simulations = [10, 100, 1000, 10000]\n",
    "    option_prices = [monte_carlo_european_option(S, K, T, r, sigma, option_type, n) for n in simulations]\n",
    "\n",
    "    # Create a price vs. option price chart\n",
    "    plt.figure(figsize=(10, 6))\n",
    "    plt.plot(simulations, option_prices, marker='o', linestyle='-', color='blue')\n",
    "    plt.xlabel('Number of Simulations')\n",
    "    plt.ylabel('Option Price')\n",
    "    plt.title(f'Monte Carlo Option Pricing for {stock_symbol} Call Option, with current Price {curret_price:2f}')\n",
    "    plt.grid(True)\n",
    "\n",
    "    # Show the chart\n",
    "    plt.show()"
   ]
  },
  {
   "cell_type": "code",
   "execution_count": 36,
   "id": "0523bd8f",
   "metadata": {},
   "outputs": [
    {
     "name": "stdout",
     "output_type": "stream",
     "text": [
      "[*********************100%***********************]  1 of 1 completed\n",
      "Current Date for Simulation: 2023-10-20 00:00:00\n",
      "Latest SOFR Rate: 5.3000%\n",
      "Sigma: 0.139636\n"
     ]
    },
    {
     "data": {
      "image/png": "[encoded data removed]",
      "text/plain": [
       "<Figure size 1000x600 with 1 Axes>"
      ]
     },
     "metadata": {},
     "output_type": "display_data"
    }
   ],
   "source": [
    "plot_single_simulation('^FTSE', '2021-01-01', '2023-10-21')"
   ]
  },
  {
   "cell_type": "markdown",
   "id": "6d49eef3",
   "metadata": {},
   "source": [
    "## Multiple simulation\n",
    "\n",
    "The Monte Carlo simulation is run for different numbers of simulations (e.g., 10, 100, 1000, 10000) to observe how the option price estimate converges as the number of simulations increases. For each run, the simulation is repeated 10 times to account for randomness."
   ]
  },
  {
   "cell_type": "code",
   "execution_count": 39,
   "id": "009f47b1",
   "metadata": {},
   "outputs": [],
   "source": [
    "def plot_multiple_simulations(stock_symbol, start_date, end_date):\n",
    "    stock_prices, curret_price = download_data_ticker(stock_symbol, start_date, end_date)\n",
    "    sofr = download_sofr(start_date, end_date)\n",
    "    # Input values\n",
    "    S = curret_price \n",
    "    K = S  # Option strike price (set it to be at-the-money)\n",
    "    T = 0.012  # Time to expiration in years (3 days -> 3/252 = 0.012)\n",
    "    r = sofr  # Risk-free interest rate (5%)\n",
    "    trading_days_per_year = 252  # Approximate number of trading days in a year\n",
    "    sigma = np.std(np.log(stock_prices / stock_prices.shift(1))) * np.sqrt(trading_days_per_year)  # Annualized volatility\n",
    "    option_type = 'call'  # 'call' for a call option, 'put' for a put option\n",
    "    n_simulations = 10000  # Number of Monte Carlo simulations\n",
    "\n",
    "    # List of different numbers of simulations to run\n",
    "    simulation_counts = [10, 100, 1000, 10000]\n",
    "\n",
    "    # Run Monte Carlo simulations for each number of simulations\n",
    "    option_prices_data = []\n",
    "    for n in simulation_counts:\n",
    "        option_prices = [monte_carlo_european_option(S, K, T, r, sigma, option_type, n) for _ in range(10)]\n",
    "        option_prices_data.append(option_prices)\n",
    "\n",
    "    # Create a price vs. option price chart with multiple runs\n",
    "    plt.figure(figsize=(10, 6))\n",
    "    for i, n in enumerate(simulation_counts):\n",
    "        plt.plot([i] * 10, option_prices_data[i], marker='o', linestyle='-', label=f'Simulations: {n}')\n",
    "    plt.xlabel('Simulation Run')\n",
    "    plt.ylabel('Option Price')\n",
    "    plt.title(f'Monte Carlo Option Pricing for {stock_symbol} Option (Multiple Runs), with current Price {curret_price:2f}')\n",
    "    plt.legend()\n",
    "    plt.grid(True)\n",
    "\n",
    "    # Show the chart\n",
    "    plt.show()"
   ]
  },
  {
   "cell_type": "code",
   "execution_count": null,
   "id": "1975a74b",
   "metadata": {},
   "outputs": [
    {
     "name": "stdout",
     "output_type": "stream",
     "text": [
      "[*********************100%***********************]  1 of 1 completed\n",
      "Current Date for Simulation: 2023-10-20 00:00:00\n",
      "Latest SOFR Rate: 5.3000%\n"
     ]
    }
   ],
   "source": [
    "plot_multiple_simulations('^FTSE', '2021-01-01', '2023-10-21')"
   ]
  },
  {
   "cell_type": "code",
   "execution_count": null,
   "id": "658abc3a",
   "metadata": {},
   "outputs": [],
   "source": []
  }
 ],
 "metadata": {
  "kernelspec": {
   "display_name": "Python 3 (ipykernel)",
   "language": "python",
   "name": "python3"
  },
  "language_info": {
   "codemirror_mode": {
    "name": "ipython",
    "version": 3
   },
   "file_extension": ".py",
   "mimetype": "text/x-python",
   "name": "python",
   "nbconvert_exporter": "python",
   "pygments_lexer": "ipython3",
   "version": "3.9.7"
  }
 },
 "nbformat": 4,
 "nbformat_minor": 5
}
